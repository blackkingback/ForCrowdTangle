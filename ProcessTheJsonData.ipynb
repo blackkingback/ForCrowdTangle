{
 "cells": [
  {
   "cell_type": "code",
   "execution_count": 2,
   "metadata": {
    "ExecuteTime": {
     "end_time": "2023-06-27T20:46:17.417583800Z",
     "start_time": "2023-06-27T20:46:16.870128700Z"
    },
    "collapsed": true
   },
   "outputs": [],
   "source": [
    "import pandas as pd\n",
    "import json"
   ]
  },
  {
   "cell_type": "code",
   "execution_count": 3,
   "metadata": {
    "ExecuteTime": {
     "end_time": "2023-06-27T20:46:18.050106Z",
     "start_time": "2023-06-27T20:46:17.414580900Z"
    }
   },
   "outputs": [],
   "source": [
    "f = open(\"posts.json\",\"r\")\n",
    "json_Data = json.load(f)"
   ]
  },
  {
   "cell_type": "code",
   "execution_count": 4,
   "metadata": {
    "ExecuteTime": {
     "end_time": "2023-06-27T20:46:18.815515300Z",
     "start_time": "2023-06-27T20:46:18.050106Z"
    }
   },
   "outputs": [],
   "source": [
    "json_Data = json.loads(json_Data)"
   ]
  },
  {
   "cell_type": "markdown",
   "metadata": {},
   "source": [
    "Extract : platformId,platform,date,message,account,score.\n",
    "\n",
    "If no message,the message is None"
   ]
  },
  {
   "cell_type": "code",
   "execution_count": 5,
   "metadata": {
    "ExecuteTime": {
     "end_time": "2023-06-27T20:46:19.088253700Z",
     "start_time": "2023-06-27T20:46:18.818517300Z"
    }
   },
   "outputs": [],
   "source": [
    "from operator import itemgetter\n",
    "\n",
    "dflist = []\n",
    "ele_keys = ['platformId','platform','date','statistics','account','score','id']\n",
    "for ele in json_Data:\n",
    "    temp_data = {}\n",
    "    try:\n",
    "        temp_data['message'] = ele['message']\n",
    "        for temp_key in ele_keys:\n",
    "            temp_data[temp_key] = ele[temp_key]\n",
    "    except KeyError as e:\n",
    "        temp_data['message'] = None\n",
    "        for temp_key in ele_keys:\n",
    "            temp_data[temp_key] = ele[temp_key]\n",
    "    dflist.append(temp_data)\n",
    "\n",
    "df = pd.DataFrame(dflist)"
   ]
  },
  {
   "cell_type": "code",
   "execution_count": 8,
   "metadata": {
    "ExecuteTime": {
     "end_time": "2023-06-27T20:48:26.208186700Z",
     "start_time": "2023-06-27T20:48:26.175159300Z"
    }
   },
   "outputs": [
    {
     "data": {
      "text/html": [
       "<div>\n",
       "<style scoped>\n",
       "    .dataframe tbody tr th:only-of-type {\n",
       "        vertical-align: middle;\n",
       "    }\n",
       "\n",
       "    .dataframe tbody tr th {\n",
       "        vertical-align: top;\n",
       "    }\n",
       "\n",
       "    .dataframe thead th {\n",
       "        text-align: right;\n",
       "    }\n",
       "</style>\n",
       "<table border=\"1\" class=\"dataframe\">\n",
       "  <thead>\n",
       "    <tr style=\"text-align: right;\">\n",
       "      <th></th>\n",
       "      <th>message</th>\n",
       "      <th>platformId</th>\n",
       "      <th>platform</th>\n",
       "      <th>date</th>\n",
       "      <th>statistics</th>\n",
       "      <th>account</th>\n",
       "      <th>score</th>\n",
       "      <th>id</th>\n",
       "    </tr>\n",
       "  </thead>\n",
       "  <tbody>\n",
       "    <tr>\n",
       "      <th>0</th>\n",
       "      <td>😎💪</td>\n",
       "      <td>118930694847615_3358866770853975</td>\n",
       "      <td>Facebook</td>\n",
       "      <td>2020-01-01 19:36:23</td>\n",
       "      <td>{'actual': {'likeCount': 6969, 'shareCount': 5...</td>\n",
       "      <td>{'id': 70607, 'name': 'Steve King', 'handle': ...</td>\n",
       "      <td>52.714162</td>\n",
       "      <td>70607|3358866770853975</td>\n",
       "    </tr>\n",
       "    <tr>\n",
       "      <th>1</th>\n",
       "      <td>Nailed it! 🔨</td>\n",
       "      <td>118930694847615_3359187640821888</td>\n",
       "      <td>Facebook</td>\n",
       "      <td>2020-01-01 22:12:48</td>\n",
       "      <td>{'actual': {'likeCount': 6314, 'shareCount': 9...</td>\n",
       "      <td>{'id': 70607, 'name': 'Steve King', 'handle': ...</td>\n",
       "      <td>15.342832</td>\n",
       "      <td>70607|3359187640821888</td>\n",
       "    </tr>\n",
       "    <tr>\n",
       "      <th>2</th>\n",
       "      <td>😎🇺🇸 (credit: Adam)</td>\n",
       "      <td>118930694847615_3355834844490501</td>\n",
       "      <td>Facebook</td>\n",
       "      <td>2020-01-01 02:00:06</td>\n",
       "      <td>{'actual': {'likeCount': 6267, 'shareCount': 3...</td>\n",
       "      <td>{'id': 70607, 'name': 'Steve King', 'handle': ...</td>\n",
       "      <td>9.033679</td>\n",
       "      <td>70607|3355834844490501</td>\n",
       "    </tr>\n",
       "    <tr>\n",
       "      <th>3</th>\n",
       "      <td>We Are Igbos wish to say: Happy New Year ⛅️🍻🍾🍸...</td>\n",
       "      <td>107168086357858_697619150646079</td>\n",
       "      <td>Facebook</td>\n",
       "      <td>2020-01-01 01:54:19</td>\n",
       "      <td>{'actual': {'likeCount': 959, 'shareCount': 97...</td>\n",
       "      <td>{'id': 2305273, 'name': 'We Are Igbos', 'handl...</td>\n",
       "      <td>7.095975</td>\n",
       "      <td>2305273|697619150646079</td>\n",
       "    </tr>\n",
       "    <tr>\n",
       "      <th>4</th>\n",
       "      <td>Raise your hand if you want to see this happen...</td>\n",
       "      <td>118930694847615_3359496717457647</td>\n",
       "      <td>Facebook</td>\n",
       "      <td>2020-01-02 01:22:26</td>\n",
       "      <td>{'actual': {'likeCount': 4445, 'shareCount': 8...</td>\n",
       "      <td>{'id': 70607, 'name': 'Steve King', 'handle': ...</td>\n",
       "      <td>5.446459</td>\n",
       "      <td>70607|3359496717457647</td>\n",
       "    </tr>\n",
       "    <tr>\n",
       "      <th>5</th>\n",
       "      <td>JUST IN: Kwara Government Demolishes Saraki's ...</td>\n",
       "      <td>96184337702_10156802469742703</td>\n",
       "      <td>Facebook</td>\n",
       "      <td>2020-01-02 09:55:24</td>\n",
       "      <td>{'actual': {'likeCount': 1071, 'shareCount': 9...</td>\n",
       "      <td>{'id': 233666, 'name': 'Sahara Reporters', 'ha...</td>\n",
       "      <td>4.833103</td>\n",
       "      <td>233666|10156802469742703</td>\n",
       "    </tr>\n",
       "    <tr>\n",
       "      <th>6</th>\n",
       "      <td>Sowore Urges Nigerians To Support PUNCH In Res...</td>\n",
       "      <td>96184337702_10156802670272703</td>\n",
       "      <td>Facebook</td>\n",
       "      <td>2020-01-02 12:23:42</td>\n",
       "      <td>{'actual': {'likeCount': 1705, 'shareCount': 4...</td>\n",
       "      <td>{'id': 233666, 'name': 'Sahara Reporters', 'ha...</td>\n",
       "      <td>4.804138</td>\n",
       "      <td>233666|10156802670272703</td>\n",
       "    </tr>\n",
       "    <tr>\n",
       "      <th>7</th>\n",
       "      <td>🇺🇸🇺🇸🇺🇸🇺🇸🇺🇸🇺🇸🇺🇸🇺🇸</td>\n",
       "      <td>118930694847615_3355882721152380</td>\n",
       "      <td>Facebook</td>\n",
       "      <td>2020-01-01 14:00:57</td>\n",
       "      <td>{'actual': {'likeCount': 3329, 'shareCount': 1...</td>\n",
       "      <td>{'id': 70607, 'name': 'Steve King', 'handle': ...</td>\n",
       "      <td>4.776339</td>\n",
       "      <td>70607|3355882721152380</td>\n",
       "    </tr>\n",
       "    <tr>\n",
       "      <th>8</th>\n",
       "      <td>None</td>\n",
       "      <td>577924729674023_594457724687390</td>\n",
       "      <td>Facebook</td>\n",
       "      <td>2020-01-02 03:04:48</td>\n",
       "      <td>{'actual': {'likeCount': 50, 'shareCount': 21,...</td>\n",
       "      <td>{'id': 12492057, 'name': 'NEW WORLD ORDER  ☆)'...</td>\n",
       "      <td>4.121212</td>\n",
       "      <td>12492057|594457724687390</td>\n",
       "    </tr>\n",
       "    <tr>\n",
       "      <th>9</th>\n",
       "      <td>Happy New Year, everyone! 🎉 P.S. Epstein didn’...</td>\n",
       "      <td>118930694847615_3356721007735218</td>\n",
       "      <td>Facebook</td>\n",
       "      <td>2020-01-01 05:08:28</td>\n",
       "      <td>{'actual': {'likeCount': 895, 'shareCount': 96...</td>\n",
       "      <td>{'id': 70607, 'name': 'Steve King', 'handle': ...</td>\n",
       "      <td>3.637306</td>\n",
       "      <td>70607|3356721007735218</td>\n",
       "    </tr>\n",
       "  </tbody>\n",
       "</table>\n",
       "</div>"
      ],
      "text/plain": [
       "                                             message  \\\n",
       "0                                                 😎💪   \n",
       "1                                       Nailed it! 🔨   \n",
       "2                                 😎🇺🇸 (credit: Adam)   \n",
       "3  We Are Igbos wish to say: Happy New Year ⛅️🍻🍾🍸...   \n",
       "4  Raise your hand if you want to see this happen...   \n",
       "5  JUST IN: Kwara Government Demolishes Saraki's ...   \n",
       "6  Sowore Urges Nigerians To Support PUNCH In Res...   \n",
       "7                                   🇺🇸🇺🇸🇺🇸🇺🇸🇺🇸🇺🇸🇺🇸🇺🇸   \n",
       "8                                               None   \n",
       "9  Happy New Year, everyone! 🎉 P.S. Epstein didn’...   \n",
       "\n",
       "                         platformId  platform                 date  \\\n",
       "0  118930694847615_3358866770853975  Facebook  2020-01-01 19:36:23   \n",
       "1  118930694847615_3359187640821888  Facebook  2020-01-01 22:12:48   \n",
       "2  118930694847615_3355834844490501  Facebook  2020-01-01 02:00:06   \n",
       "3   107168086357858_697619150646079  Facebook  2020-01-01 01:54:19   \n",
       "4  118930694847615_3359496717457647  Facebook  2020-01-02 01:22:26   \n",
       "5     96184337702_10156802469742703  Facebook  2020-01-02 09:55:24   \n",
       "6     96184337702_10156802670272703  Facebook  2020-01-02 12:23:42   \n",
       "7  118930694847615_3355882721152380  Facebook  2020-01-01 14:00:57   \n",
       "8   577924729674023_594457724687390  Facebook  2020-01-02 03:04:48   \n",
       "9  118930694847615_3356721007735218  Facebook  2020-01-01 05:08:28   \n",
       "\n",
       "                                          statistics  \\\n",
       "0  {'actual': {'likeCount': 6969, 'shareCount': 5...   \n",
       "1  {'actual': {'likeCount': 6314, 'shareCount': 9...   \n",
       "2  {'actual': {'likeCount': 6267, 'shareCount': 3...   \n",
       "3  {'actual': {'likeCount': 959, 'shareCount': 97...   \n",
       "4  {'actual': {'likeCount': 4445, 'shareCount': 8...   \n",
       "5  {'actual': {'likeCount': 1071, 'shareCount': 9...   \n",
       "6  {'actual': {'likeCount': 1705, 'shareCount': 4...   \n",
       "7  {'actual': {'likeCount': 3329, 'shareCount': 1...   \n",
       "8  {'actual': {'likeCount': 50, 'shareCount': 21,...   \n",
       "9  {'actual': {'likeCount': 895, 'shareCount': 96...   \n",
       "\n",
       "                                             account      score  \\\n",
       "0  {'id': 70607, 'name': 'Steve King', 'handle': ...  52.714162   \n",
       "1  {'id': 70607, 'name': 'Steve King', 'handle': ...  15.342832   \n",
       "2  {'id': 70607, 'name': 'Steve King', 'handle': ...   9.033679   \n",
       "3  {'id': 2305273, 'name': 'We Are Igbos', 'handl...   7.095975   \n",
       "4  {'id': 70607, 'name': 'Steve King', 'handle': ...   5.446459   \n",
       "5  {'id': 233666, 'name': 'Sahara Reporters', 'ha...   4.833103   \n",
       "6  {'id': 233666, 'name': 'Sahara Reporters', 'ha...   4.804138   \n",
       "7  {'id': 70607, 'name': 'Steve King', 'handle': ...   4.776339   \n",
       "8  {'id': 12492057, 'name': 'NEW WORLD ORDER  ☆)'...   4.121212   \n",
       "9  {'id': 70607, 'name': 'Steve King', 'handle': ...   3.637306   \n",
       "\n",
       "                         id  \n",
       "0    70607|3358866770853975  \n",
       "1    70607|3359187640821888  \n",
       "2    70607|3355834844490501  \n",
       "3   2305273|697619150646079  \n",
       "4    70607|3359496717457647  \n",
       "5  233666|10156802469742703  \n",
       "6  233666|10156802670272703  \n",
       "7    70607|3355882721152380  \n",
       "8  12492057|594457724687390  \n",
       "9    70607|3356721007735218  "
      ]
     },
     "execution_count": 8,
     "metadata": {},
     "output_type": "execute_result"
    }
   ],
   "source": [
    "df.head(10)"
   ]
  },
  {
   "cell_type": "code",
   "execution_count": 7,
   "metadata": {
    "ExecuteTime": {
     "end_time": "2023-06-27T20:46:20.332634800Z",
     "start_time": "2023-06-27T20:46:19.120279800Z"
    }
   },
   "outputs": [],
   "source": [
    "df.to_csv(\"posts.tsv\",index=False,sep=\"\\t\")"
   ]
  }
 ],
 "metadata": {
  "kernelspec": {
   "display_name": "Python 3 (ipykernel)",
   "language": "python",
   "name": "python3"
  },
  "language_info": {
   "codemirror_mode": {
    "name": "ipython",
    "version": 3
   },
   "file_extension": ".py",
   "mimetype": "text/x-python",
   "name": "python",
   "nbconvert_exporter": "python",
   "pygments_lexer": "ipython3",
   "version": "3.10.9"
  }
 },
 "nbformat": 4,
 "nbformat_minor": 1
}
